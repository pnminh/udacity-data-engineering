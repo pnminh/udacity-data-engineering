{
 "cells": [
  {
   "cell_type": "markdown",
   "metadata": {
    "editable": true
   },
   "source": [
    "# US Immigration patterns and their effects on US demographics\n",
    "### Data Engineering Capstone Project\n",
    "\n",
    "#### Project Summary\n",
    "--describe your project at a high level--\n",
    "\n",
    "The project follows the follow steps:\n",
    "* Step 1: Scope the Project and Gather Data\n",
    "* Step 2: Explore and Assess the Data\n",
    "* Step 3: Define the Data Model\n",
    "* Step 4: Run ETL to Model the Data\n",
    "* Step 5: Complete Project Write Up"
   ]
  },
  {
   "cell_type": "code",
   "execution_count": 1,
   "metadata": {
    "editable": true
   },
   "outputs": [],
   "source": [
    "# Do all imports and installs here\n",
    "import pandas as pd\n",
    "from etl import extract_immigration_data,extract_us_cities_demographics_data,extract_airport_data,extract_countries,extract_entry_ports,extract_travel_modes,extract_us_states,extract_visa_modes, \\\n",
    "transform_immigration_data,transform_us_cities_demographics_data,transform_airport_data,transform_countries_data,transform_entry_ports, \\\n",
    "save_countries_dimension_table,save_entry_ports_dimension_table,save_travel_modes_dimension_table,save_us_states_dimension_table,save_visa_modes_dimension_table,save_airports_dimension_table, \\\n",
    "save_immigration_fact_table,save_us_cities_demographics_dimension_table, validate_data_integrity,get_data_from_parquet_files\n",
    "from pyspark.sql.functions import col,udf,regexp_replace"
   ]
  },
  {
   "cell_type": "markdown",
   "metadata": {
    "editable": true
   },
   "source": [
    "### Step 1: Scope the Project and Gather Data\n",
    "\n",
    "#### Scope of the project\n",
    "The project focuses finding the patterns of non-immigrant visitors coming to the US each year and their effect on different aspects of the country such as population, tourism, education, etc.. The project solely utilizes Spark framework to do ETL pipeline from various datasources and present some sample data analysis using views created by comparing and combining these datasets.Further work can be done to apply other tools like Airflow for data pipeline orchestration, S3 buckets and Redshift as data storage and data wharehouse,etc.\n",
    "#### Describe and Gather Data \n",
    "3 datasources are used within the project to provide US immigration patterns:\n",
    "-   I94 Immigration Data: This data comes from [the US National Tourism and Trade Office](https://travel.trade.gov/research/reports/i94/historical/2016.html). This dataset provide extensive details of the US visitors such as where they came from, which port of entry an city that they came through, and which type of visa they applied for. \n",
    "-   U.S. City Demographic Data: This data comes from [OpenSoft](https://public.opendatasoft.com/explore/dataset/us-cities-demographics/export/).This dataset provides a picture of demographics in each state and city.\n",
    "-   Airport Code Table: This is a simple table of airport codes and corresponding cities, downloaded from [here](https://datahub.io/core/airport-codes#data)."
   ]
  },
  {
   "cell_type": "code",
   "execution_count": 2,
   "metadata": {
    "editable": true
   },
   "outputs": [],
   "source": [
    "# Read in the i94 data sample\n",
    "df = pd.read_csv(\"immigration_data_sample.csv\")"
   ]
  },
  {
   "cell_type": "code",
   "execution_count": 3,
   "metadata": {
    "editable": true
   },
   "outputs": [
    {
     "data": {
      "text/html": [
       "<div>\n",
       "<style scoped>\n",
       "    .dataframe tbody tr th:only-of-type {\n",
       "        vertical-align: middle;\n",
       "    }\n",
       "\n",
       "    .dataframe tbody tr th {\n",
       "        vertical-align: top;\n",
       "    }\n",
       "\n",
       "    .dataframe thead th {\n",
       "        text-align: right;\n",
       "    }\n",
       "</style>\n",
       "<table border=\"1\" class=\"dataframe\">\n",
       "  <thead>\n",
       "    <tr style=\"text-align: right;\">\n",
       "      <th></th>\n",
       "      <th>Unnamed: 0</th>\n",
       "      <th>cicid</th>\n",
       "      <th>i94yr</th>\n",
       "      <th>i94mon</th>\n",
       "      <th>i94cit</th>\n",
       "      <th>i94res</th>\n",
       "      <th>i94port</th>\n",
       "      <th>arrdate</th>\n",
       "      <th>i94mode</th>\n",
       "      <th>i94addr</th>\n",
       "      <th>...</th>\n",
       "      <th>entdepu</th>\n",
       "      <th>matflag</th>\n",
       "      <th>biryear</th>\n",
       "      <th>dtaddto</th>\n",
       "      <th>gender</th>\n",
       "      <th>insnum</th>\n",
       "      <th>airline</th>\n",
       "      <th>admnum</th>\n",
       "      <th>fltno</th>\n",
       "      <th>visatype</th>\n",
       "    </tr>\n",
       "  </thead>\n",
       "  <tbody>\n",
       "    <tr>\n",
       "      <th>0</th>\n",
       "      <td>2027561</td>\n",
       "      <td>4084316.0</td>\n",
       "      <td>2016.0</td>\n",
       "      <td>4.0</td>\n",
       "      <td>209.0</td>\n",
       "      <td>209.0</td>\n",
       "      <td>HHW</td>\n",
       "      <td>20566.0</td>\n",
       "      <td>1.0</td>\n",
       "      <td>HI</td>\n",
       "      <td>...</td>\n",
       "      <td>NaN</td>\n",
       "      <td>M</td>\n",
       "      <td>1955.0</td>\n",
       "      <td>07202016</td>\n",
       "      <td>F</td>\n",
       "      <td>NaN</td>\n",
       "      <td>JL</td>\n",
       "      <td>5.658267e+10</td>\n",
       "      <td>00782</td>\n",
       "      <td>WT</td>\n",
       "    </tr>\n",
       "    <tr>\n",
       "      <th>1</th>\n",
       "      <td>2171295</td>\n",
       "      <td>4422636.0</td>\n",
       "      <td>2016.0</td>\n",
       "      <td>4.0</td>\n",
       "      <td>582.0</td>\n",
       "      <td>582.0</td>\n",
       "      <td>MCA</td>\n",
       "      <td>20567.0</td>\n",
       "      <td>1.0</td>\n",
       "      <td>TX</td>\n",
       "      <td>...</td>\n",
       "      <td>NaN</td>\n",
       "      <td>M</td>\n",
       "      <td>1990.0</td>\n",
       "      <td>10222016</td>\n",
       "      <td>M</td>\n",
       "      <td>NaN</td>\n",
       "      <td>*GA</td>\n",
       "      <td>9.436200e+10</td>\n",
       "      <td>XBLNG</td>\n",
       "      <td>B2</td>\n",
       "    </tr>\n",
       "    <tr>\n",
       "      <th>2</th>\n",
       "      <td>589494</td>\n",
       "      <td>1195600.0</td>\n",
       "      <td>2016.0</td>\n",
       "      <td>4.0</td>\n",
       "      <td>148.0</td>\n",
       "      <td>112.0</td>\n",
       "      <td>OGG</td>\n",
       "      <td>20551.0</td>\n",
       "      <td>1.0</td>\n",
       "      <td>FL</td>\n",
       "      <td>...</td>\n",
       "      <td>NaN</td>\n",
       "      <td>M</td>\n",
       "      <td>1940.0</td>\n",
       "      <td>07052016</td>\n",
       "      <td>M</td>\n",
       "      <td>NaN</td>\n",
       "      <td>LH</td>\n",
       "      <td>5.578047e+10</td>\n",
       "      <td>00464</td>\n",
       "      <td>WT</td>\n",
       "    </tr>\n",
       "    <tr>\n",
       "      <th>3</th>\n",
       "      <td>2631158</td>\n",
       "      <td>5291768.0</td>\n",
       "      <td>2016.0</td>\n",
       "      <td>4.0</td>\n",
       "      <td>297.0</td>\n",
       "      <td>297.0</td>\n",
       "      <td>LOS</td>\n",
       "      <td>20572.0</td>\n",
       "      <td>1.0</td>\n",
       "      <td>CA</td>\n",
       "      <td>...</td>\n",
       "      <td>NaN</td>\n",
       "      <td>M</td>\n",
       "      <td>1991.0</td>\n",
       "      <td>10272016</td>\n",
       "      <td>M</td>\n",
       "      <td>NaN</td>\n",
       "      <td>QR</td>\n",
       "      <td>9.478970e+10</td>\n",
       "      <td>00739</td>\n",
       "      <td>B2</td>\n",
       "    </tr>\n",
       "    <tr>\n",
       "      <th>4</th>\n",
       "      <td>3032257</td>\n",
       "      <td>985523.0</td>\n",
       "      <td>2016.0</td>\n",
       "      <td>4.0</td>\n",
       "      <td>111.0</td>\n",
       "      <td>111.0</td>\n",
       "      <td>CHM</td>\n",
       "      <td>20550.0</td>\n",
       "      <td>3.0</td>\n",
       "      <td>NY</td>\n",
       "      <td>...</td>\n",
       "      <td>NaN</td>\n",
       "      <td>M</td>\n",
       "      <td>1997.0</td>\n",
       "      <td>07042016</td>\n",
       "      <td>F</td>\n",
       "      <td>NaN</td>\n",
       "      <td>NaN</td>\n",
       "      <td>4.232257e+10</td>\n",
       "      <td>LAND</td>\n",
       "      <td>WT</td>\n",
       "    </tr>\n",
       "  </tbody>\n",
       "</table>\n",
       "<p>5 rows × 29 columns</p>\n",
       "</div>"
      ],
      "text/plain": [
       "   Unnamed: 0      cicid   i94yr  i94mon  i94cit  i94res i94port  arrdate  \\\n",
       "0     2027561  4084316.0  2016.0     4.0   209.0   209.0     HHW  20566.0   \n",
       "1     2171295  4422636.0  2016.0     4.0   582.0   582.0     MCA  20567.0   \n",
       "2      589494  1195600.0  2016.0     4.0   148.0   112.0     OGG  20551.0   \n",
       "3     2631158  5291768.0  2016.0     4.0   297.0   297.0     LOS  20572.0   \n",
       "4     3032257   985523.0  2016.0     4.0   111.0   111.0     CHM  20550.0   \n",
       "\n",
       "   i94mode i94addr  ...  entdepu  matflag  biryear   dtaddto  gender insnum  \\\n",
       "0      1.0      HI  ...      NaN        M   1955.0  07202016       F    NaN   \n",
       "1      1.0      TX  ...      NaN        M   1990.0  10222016       M    NaN   \n",
       "2      1.0      FL  ...      NaN        M   1940.0  07052016       M    NaN   \n",
       "3      1.0      CA  ...      NaN        M   1991.0  10272016       M    NaN   \n",
       "4      3.0      NY  ...      NaN        M   1997.0  07042016       F    NaN   \n",
       "\n",
       "  airline        admnum  fltno  visatype  \n",
       "0      JL  5.658267e+10  00782        WT  \n",
       "1     *GA  9.436200e+10  XBLNG        B2  \n",
       "2      LH  5.578047e+10  00464        WT  \n",
       "3      QR  9.478970e+10  00739        B2  \n",
       "4     NaN  4.232257e+10   LAND        WT  \n",
       "\n",
       "[5 rows x 29 columns]"
      ]
     },
     "execution_count": 3,
     "metadata": {},
     "output_type": "execute_result"
    }
   ],
   "source": [
    "df.head()"
   ]
  },
  {
   "cell_type": "markdown",
   "metadata": {
    "editable": true
   },
   "source": [
    "### Step 2: Explore and Assess the Data\n",
    "#### Explore the Data \n",
    "Identify data quality issues, like missing values, duplicate data, etc.\n",
    "##### As we read in the data, there are some findings:\n",
    "- Data may have duplicate values\n",
    "- Immigrations dataset includes many fields that are not necessary to the project. I decided to use a small set of fields that can be used for our analysis later\n",
    "- Demographics dataset also has data that are not used by the project\n",
    "- Airport dataset also has data that are not used by the project\n",
    "- All datasets involve US states so paritioning by US State code can speed up the querying process\n"
   ]
  },
  {
   "cell_type": "code",
   "execution_count": 4,
   "metadata": {},
   "outputs": [],
   "source": [
    "# First create a spark session to read in file data\n",
    "from pyspark.sql import SparkSession\n",
    "spark = SparkSession.builder.config(\"spark.jars\",\"/usr/local/spark/jars/parso-2.0.11.jar,/usr/local/spark/jars/spark-sas7bdat-3.0.0-s_2.11.jar\").getOrCreate()"
   ]
  },
  {
   "cell_type": "code",
   "execution_count": 5,
   "metadata": {},
   "outputs": [
    {
     "data": {
      "text/plain": [
       "[Row(cicid=6.0, i94yr=2016.0, i94mon=4.0, i94cit=692.0, i94res=692.0, i94port='XXX', arrdate=20573.0, i94mode=None, i94addr=None, depdate=None, i94bir=37.0, i94visa=2.0, count=1.0, dtadfile=None, visapost=None, occup=None, entdepa='T', entdepd=None, entdepu='U', matflag=None, biryear=1979.0, dtaddto='10282016', gender=None, insnum=None, airline=None, admnum=1897628485.0, fltno=None, visatype='B2'),\n",
       " Row(cicid=7.0, i94yr=2016.0, i94mon=4.0, i94cit=254.0, i94res=276.0, i94port='ATL', arrdate=20551.0, i94mode=1.0, i94addr='AL', depdate=None, i94bir=25.0, i94visa=3.0, count=1.0, dtadfile='20130811', visapost='SEO', occup=None, entdepa='G', entdepd=None, entdepu='Y', matflag=None, biryear=1991.0, dtaddto='D/S', gender='M', insnum=None, airline=None, admnum=3736796330.0, fltno='00296', visatype='F1'),\n",
       " Row(cicid=15.0, i94yr=2016.0, i94mon=4.0, i94cit=101.0, i94res=101.0, i94port='WAS', arrdate=20545.0, i94mode=1.0, i94addr='MI', depdate=20691.0, i94bir=55.0, i94visa=2.0, count=1.0, dtadfile='20160401', visapost=None, occup=None, entdepa='T', entdepd='O', entdepu=None, matflag='M', biryear=1961.0, dtaddto='09302016', gender='M', insnum=None, airline='OS', admnum=666643185.0, fltno='93', visatype='B2'),\n",
       " Row(cicid=16.0, i94yr=2016.0, i94mon=4.0, i94cit=101.0, i94res=101.0, i94port='NYC', arrdate=20545.0, i94mode=1.0, i94addr='MA', depdate=20567.0, i94bir=28.0, i94visa=2.0, count=1.0, dtadfile='20160401', visapost=None, occup=None, entdepa='O', entdepd='O', entdepu=None, matflag='M', biryear=1988.0, dtaddto='09302016', gender=None, insnum=None, airline='AA', admnum=92468461330.0, fltno='00199', visatype='B2'),\n",
       " Row(cicid=17.0, i94yr=2016.0, i94mon=4.0, i94cit=101.0, i94res=101.0, i94port='NYC', arrdate=20545.0, i94mode=1.0, i94addr='MA', depdate=20567.0, i94bir=4.0, i94visa=2.0, count=1.0, dtadfile='20160401', visapost=None, occup=None, entdepa='O', entdepd='O', entdepu=None, matflag='M', biryear=2012.0, dtaddto='09302016', gender=None, insnum=None, airline='AA', admnum=92468463130.0, fltno='00199', visatype='B2')]"
      ]
     },
     "execution_count": 5,
     "metadata": {},
     "output_type": "execute_result"
    }
   ],
   "source": [
    "# Read in immigration data\n",
    "df_immigrations =extract_immigration_data(spark)\n",
    "df_immigrations.head(5)"
   ]
  },
  {
   "cell_type": "code",
   "execution_count": 6,
   "metadata": {},
   "outputs": [
    {
     "data": {
      "text/plain": [
       "[Row(city='Silver Spring', state='Maryland', median_age=33.8, male_population=40601, female_population=41862, total_population=82463, number_of_veterans=1562, foreign_born=30908, average_household_size=2.6, state_code='MD', race='Hispanic or Latino', count=25924),\n",
       " Row(city='Quincy', state='Massachusetts', median_age=41.0, male_population=44129, female_population=49500, total_population=93629, number_of_veterans=4147, foreign_born=32935, average_household_size=2.39, state_code='MA', race='White', count=58723),\n",
       " Row(city='Hoover', state='Alabama', median_age=38.5, male_population=38040, female_population=46799, total_population=84839, number_of_veterans=4819, foreign_born=8229, average_household_size=2.58, state_code='AL', race='Asian', count=4759),\n",
       " Row(city='Rancho Cucamonga', state='California', median_age=34.5, male_population=88127, female_population=87105, total_population=175232, number_of_veterans=5821, foreign_born=33878, average_household_size=3.18, state_code='CA', race='Black or African-American', count=24437),\n",
       " Row(city='Newark', state='New Jersey', median_age=34.6, male_population=138040, female_population=143873, total_population=281913, number_of_veterans=5829, foreign_born=86253, average_household_size=2.73, state_code='NJ', race='White', count=76402)]"
      ]
     },
     "execution_count": 6,
     "metadata": {},
     "output_type": "execute_result"
    }
   ],
   "source": [
    "#Read in US demographics data\n",
    "df_us_dems = extract_us_cities_demographics_data(spark)\n",
    "df_us_dems.head(5)"
   ]
  },
  {
   "cell_type": "code",
   "execution_count": 7,
   "metadata": {},
   "outputs": [
    {
     "data": {
      "text/plain": [
       "[Row(ident='00A', type='heliport', name='Total Rf Heliport', elevation_ft='11', continent='NA', iso_country='US', iso_region='US-PA', municipality='Bensalem', gps_code='00A', iata_code=None, local_code='00A', coordinates='-74.93360137939453, 40.07080078125'),\n",
       " Row(ident='00AA', type='small_airport', name='Aero B Ranch Airport', elevation_ft='3435', continent='NA', iso_country='US', iso_region='US-KS', municipality='Leoti', gps_code='00AA', iata_code=None, local_code='00AA', coordinates='-101.473911, 38.704022'),\n",
       " Row(ident='00AK', type='small_airport', name='Lowell Field', elevation_ft='450', continent='NA', iso_country='US', iso_region='US-AK', municipality='Anchor Point', gps_code='00AK', iata_code=None, local_code='00AK', coordinates='-151.695999146, 59.94919968'),\n",
       " Row(ident='00AL', type='small_airport', name='Epps Airpark', elevation_ft='820', continent='NA', iso_country='US', iso_region='US-AL', municipality='Harvest', gps_code='00AL', iata_code=None, local_code='00AL', coordinates='-86.77030181884766, 34.86479949951172'),\n",
       " Row(ident='00AR', type='closed', name='Newport Hospital & Clinic Heliport', elevation_ft='237', continent='NA', iso_country='US', iso_region='US-AR', municipality='Newport', gps_code=None, iata_code=None, local_code=None, coordinates='-91.254898, 35.6087')]"
      ]
     },
     "execution_count": 7,
     "metadata": {},
     "output_type": "execute_result"
    }
   ],
   "source": [
    "#Read in airport code data\n",
    "df_airports=extract_airport_data(spark)\n",
    "df_airports.head(5)"
   ]
  },
  {
   "cell_type": "code",
   "execution_count": 8,
   "metadata": {},
   "outputs": [
    {
     "data": {
      "text/plain": [
       "[Row(country_code='582', country_name='MEXICO Air Sea, and Not Reported (I-94, no land arrivals)'),\n",
       " Row(country_code='236', country_name='AFGHANISTAN'),\n",
       " Row(country_code='101', country_name='ALBANIA'),\n",
       " Row(country_code='316', country_name='ALGERIA'),\n",
       " Row(country_code='102', country_name='ANDORRA')]"
      ]
     },
     "execution_count": 8,
     "metadata": {},
     "output_type": "execute_result"
    }
   ],
   "source": [
    "# extract country data\n",
    "df_countries=extract_countries(spark)\n",
    "df_countries.head(5)"
   ]
  },
  {
   "cell_type": "code",
   "execution_count": 9,
   "metadata": {},
   "outputs": [
    {
     "data": {
      "text/plain": [
       "[Row(port_code='ALC', port_name='ALCAN, AK'),\n",
       " Row(port_code='ANC', port_name='ANCHORAGE, AK'),\n",
       " Row(port_code='BAR', port_name='BAKER AAF - BAKER ISLAND, AK'),\n",
       " Row(port_code='DAC', port_name='DALTONS CACHE, AK'),\n",
       " Row(port_code='PIZ', port_name='DEW STATION PT LAY DEW, AK')]"
      ]
     },
     "execution_count": 9,
     "metadata": {},
     "output_type": "execute_result"
    }
   ],
   "source": [
    "# extract port of entries\n",
    "df_entry_ports = extract_entry_ports(spark)\n",
    "df_entry_ports.head(5)"
   ]
  },
  {
   "cell_type": "code",
   "execution_count": 10,
   "metadata": {},
   "outputs": [
    {
     "data": {
      "text/plain": [
       "[Row(travel_mode_code='1', travel_mode_name='Air'),\n",
       " Row(travel_mode_code='2', travel_mode_name='Sea'),\n",
       " Row(travel_mode_code='3', travel_mode_name='Land'),\n",
       " Row(travel_mode_code='9', travel_mode_name='Not reported')]"
      ]
     },
     "execution_count": 10,
     "metadata": {},
     "output_type": "execute_result"
    }
   ],
   "source": [
    "#extract modes of travel\n",
    "df_travel_modes=extract_travel_modes(spark)\n",
    "df_travel_modes.head(5)"
   ]
  },
  {
   "cell_type": "code",
   "execution_count": 11,
   "metadata": {},
   "outputs": [
    {
     "data": {
      "text/plain": [
       "[Row(state_code='AL', state_name='ALABAMA'),\n",
       " Row(state_code='AK', state_name='ALASKA'),\n",
       " Row(state_code='AZ', state_name='ARIZONA'),\n",
       " Row(state_code='AR', state_name='ARKANSAS'),\n",
       " Row(state_code='CA', state_name='CALIFORNIA')]"
      ]
     },
     "execution_count": 11,
     "metadata": {},
     "output_type": "execute_result"
    }
   ],
   "source": [
    "#extract us states\n",
    "df_us_states=extract_us_states(spark)\n",
    "df_us_states.head(5)"
   ]
  },
  {
   "cell_type": "code",
   "execution_count": 12,
   "metadata": {},
   "outputs": [
    {
     "data": {
      "text/plain": [
       "[Row(visa_mode_code='1', visa_mode_name='Business'),\n",
       " Row(visa_mode_code='2', visa_mode_name='Pleasure'),\n",
       " Row(visa_mode_code='3', visa_mode_name='Student')]"
      ]
     },
     "execution_count": 12,
     "metadata": {},
     "output_type": "execute_result"
    }
   ],
   "source": [
    "#extract visa types\n",
    "df_visa_modes=extract_visa_modes(spark)\n",
    "df_visa_modes.head(5)"
   ]
  },
  {
   "cell_type": "code",
   "execution_count": 13,
   "metadata": {},
   "outputs": [
    {
     "data": {
      "text/plain": [
       "[Row(year_of_entry=2016.0, month_of_entry=4.0, country_of_origin_code=692.0, country_of_residence_code=692.0, mode_of_entry_code=None, us_address_state_code=None, airline=None, visa_type='B2'),\n",
       " Row(year_of_entry=2016.0, month_of_entry=4.0, country_of_origin_code=254.0, country_of_residence_code=276.0, mode_of_entry_code=1.0, us_address_state_code='AL', airline=None, visa_type='F1'),\n",
       " Row(year_of_entry=2016.0, month_of_entry=4.0, country_of_origin_code=101.0, country_of_residence_code=101.0, mode_of_entry_code=1.0, us_address_state_code='MI', airline='OS', visa_type='B2'),\n",
       " Row(year_of_entry=2016.0, month_of_entry=4.0, country_of_origin_code=101.0, country_of_residence_code=101.0, mode_of_entry_code=1.0, us_address_state_code='MA', airline='AA', visa_type='B2'),\n",
       " Row(year_of_entry=2016.0, month_of_entry=4.0, country_of_origin_code=101.0, country_of_residence_code=101.0, mode_of_entry_code=1.0, us_address_state_code='MA', airline='AA', visa_type='B2')]"
      ]
     },
     "execution_count": 13,
     "metadata": {},
     "output_type": "execute_result"
    }
   ],
   "source": [
    "# convert code to code and name\n",
    "#get immigrant info\n",
    "\n",
    "df_immigrants=df_immigrations.select(col('i94yr').alias('year_of_entry'),col('i94mon').alias('month_of_entry'), \\\n",
    "                                     col('i94cit').alias( 'country_of_origin_code'),col('i94res').alias('country_of_residence_code'), \\\n",
    "                                     col('i94mode').alias('mode_of_entry_code'),col('i94addr').alias('us_address_state_code'), \\\n",
    "                                     col('airline'),col('visatype').alias('visa_type'))\n",
    "df_immigrants.head(5)"
   ]
  },
  {
   "cell_type": "markdown",
   "metadata": {},
   "source": [
    "#### Cleaning Steps\n",
    "Document steps necessary to clean the data\n",
    "\n",
    "##### Cleanup steps include\n",
    "- Remove duplicates for all dataframes\n",
    "- Select enough fields from immigrations, us demographic, and airports datasets for future analysis\n",
    "- entry_ports with port name divided into city and state\n",
    "- countries may have Invalid country names. I specified INVALID for all of these records\n",
    "- airports have airport_code either coming from iata code or if no aita code isnot provided for the airport, use local code if available. Since we focus on US immigration data, we only select airports in the US. Also state code is derived from iso_region"
   ]
  },
  {
   "cell_type": "code",
   "execution_count": 14,
   "metadata": {
    "editable": true
   },
   "outputs": [
    {
     "data": {
      "text/plain": [
       "[Row(year_of_entry=2016.0, month_of_entry=4.0, country_of_origin_code=104.0, country_of_residence_code=104.0, us_address_state_code='LA', port_of_entry_code='ATL', travel_mode_code=1.0, visa_mode_code=2.0, airline='KL', visa_type='WT'),\n",
       " Row(year_of_entry=2016.0, month_of_entry=4.0, country_of_origin_code=107.0, country_of_residence_code=107.0, us_address_state_code='VQ', port_of_entry_code='SAJ', travel_mode_code=1.0, visa_mode_code=2.0, airline='DY', visa_type='B2'),\n",
       " Row(year_of_entry=2016.0, month_of_entry=4.0, country_of_origin_code=108.0, country_of_residence_code=108.0, us_address_state_code='NY', port_of_entry_code='RDU', travel_mode_code=1.0, visa_mode_code=2.0, airline='SK', visa_type='WT'),\n",
       " Row(year_of_entry=2016.0, month_of_entry=4.0, country_of_origin_code=108.0, country_of_residence_code=108.0, us_address_state_code='TX', port_of_entry_code='WAS', travel_mode_code=1.0, visa_mode_code=1.0, airline='SK', visa_type='WB'),\n",
       " Row(year_of_entry=2016.0, month_of_entry=4.0, country_of_origin_code=110.0, country_of_residence_code=110.0, us_address_state_code='NJ', port_of_entry_code='NEW', travel_mode_code=1.0, visa_mode_code=1.0, airline='UA', visa_type='B1')]"
      ]
     },
     "execution_count": 14,
     "metadata": {},
     "output_type": "execute_result"
    }
   ],
   "source": [
    "# Only select enough fields from immigration data\n",
    "df_immigrations_tf=transform_immigration_data(df_immigrations)\n",
    "df_immigrations_tf.head(5)"
   ]
  },
  {
   "cell_type": "code",
   "execution_count": 15,
   "metadata": {},
   "outputs": [
    {
     "data": {
      "text/plain": [
       "[Row(city='Silver Spring', state='Maryland', median_age=33.8, male_population=40601, female_population=41862, total_population=82463, number_of_veterans=1562, foreign_born=30908, average_household_size=2.6, state_code='MD', race='Hispanic or Latino', count=25924),\n",
       " Row(city='Quincy', state='Massachusetts', median_age=41.0, male_population=44129, female_population=49500, total_population=93629, number_of_veterans=4147, foreign_born=32935, average_household_size=2.39, state_code='MA', race='White', count=58723),\n",
       " Row(city='Hoover', state='Alabama', median_age=38.5, male_population=38040, female_population=46799, total_population=84839, number_of_veterans=4819, foreign_born=8229, average_household_size=2.58, state_code='AL', race='Asian', count=4759),\n",
       " Row(city='Rancho Cucamonga', state='California', median_age=34.5, male_population=88127, female_population=87105, total_population=175232, number_of_veterans=5821, foreign_born=33878, average_household_size=3.18, state_code='CA', race='Black or African-American', count=24437),\n",
       " Row(city='Newark', state='New Jersey', median_age=34.6, male_population=138040, female_population=143873, total_population=281913, number_of_veterans=5829, foreign_born=86253, average_household_size=2.73, state_code='NJ', race='White', count=76402)]"
      ]
     },
     "execution_count": 15,
     "metadata": {},
     "output_type": "execute_result"
    }
   ],
   "source": [
    "# Only select enough fields from demographics data\n",
    "df_us_dems_tf=transform_us_cities_demographics_data(df_us_dems)\n",
    "df_us_dems.head(5)"
   ]
  },
  {
   "cell_type": "code",
   "execution_count": 16,
   "metadata": {},
   "outputs": [
    {
     "data": {
      "text/plain": [
       "[Row(id='07B', airport_name='Blue Hill Airport', airport_code='07B', state_code='ME'),\n",
       " Row(id='09AR', airport_name='Magnolia Hospital Heliport', airport_code='09AR', state_code='AR'),\n",
       " Row(id='0LL2', airport_name=\"Murk's Strip\", airport_code='0LL2', state_code='IL'),\n",
       " Row(id='0MN8', airport_name='Keller Airport', airport_code='0MN8', state_code='MN'),\n",
       " Row(id='0MS4', airport_name=\"Sheriff's Courthouse Heliport\", airport_code='0MS4', state_code='MS')]"
      ]
     },
     "execution_count": 16,
     "metadata": {},
     "output_type": "execute_result"
    }
   ],
   "source": [
    "# Only select enough fields from airport data\n",
    "df_airport_tf=transform_airport_data(df_airports)\n",
    "df_airport_tf.head(5)"
   ]
  },
  {
   "cell_type": "code",
   "execution_count": 17,
   "metadata": {},
   "outputs": [
    {
     "data": {
      "text/plain": [
       "[Row(country_code='373', country_name='SOUTH AFRICA'),\n",
       " Row(country_code='206', country_name='HONG KONG'),\n",
       " Row(country_code='214', country_name='MACAU'),\n",
       " Row(country_code='394', country_name='INVALID'),\n",
       " Row(country_code='589', country_name='INVALID')]"
      ]
     },
     "execution_count": 17,
     "metadata": {},
     "output_type": "execute_result"
    }
   ],
   "source": [
    "# All invalid country names are set to INVALID\n",
    "df_countries_tf=transform_countries_data(df_countries)\n",
    "df_countries_tf.head(5)"
   ]
  },
  {
   "cell_type": "code",
   "execution_count": 18,
   "metadata": {},
   "outputs": [
    {
     "data": {
      "text/plain": [
       "[Row(port_code='HNN', port_name='HANNAH, ND', city_name='HANNAH', state_code='ND'),\n",
       " Row(port_code='PKC', port_name='POKER CREEK, AK', city_name='POKER CREEK', state_code='AK'),\n",
       " Row(port_code='POM', port_name='PORTLAND, ME', city_name='PORTLAND', state_code='ME'),\n",
       " Row(port_code='PFN', port_name='INVALID', city_name=None, state_code=None),\n",
       " Row(port_code='NIK', port_name='NIKISKI, AK', city_name='NIKISKI', state_code='AK')]"
      ]
     },
     "execution_count": 18,
     "metadata": {},
     "output_type": "execute_result"
    }
   ],
   "source": [
    "# entry_ports with port name divided into city and state\n",
    "df_entry_ports_tf=transform_entry_ports(df_entry_ports)\n",
    "df_entry_ports_tf.head(5)"
   ]
  },
  {
   "cell_type": "markdown",
   "metadata": {
    "editable": true
   },
   "source": [
    "### Step 3: Define the Data Model\n",
    "#### 3.1 Conceptual Data Model\n",
    "STAR schema is used with immigrations as fact table and others are dimension ones.\n",
    "![Data Models](capstone_data_models.png)\n",
    "#### 3.2 Mapping Out Data Pipelines\n",
    "Data are extracted from different datasourced (mentioned above), transformed into meaningful data models, and then saved as parquet files.\n",
    "\n"
   ]
  },
  {
   "cell_type": "markdown",
   "metadata": {
    "editable": true
   },
   "source": [
    "### Step 4: Run Pipelines to Model the Data \n",
    "#### 4.1 Create the data model\n",
    "Data models come from data extraction and transformation using spark dataframe, then saved into parquet files. Some notes:\n",
    "- As state code are part of many data models, it will be used as partition for them to speed up the query process.\n",
    "- Secondary paritioning with city is used for dim_entry_ports and dim_us_dems as they are related "
   ]
  },
  {
   "cell_type": "code",
   "execution_count": 19,
   "metadata": {
    "editable": true
   },
   "outputs": [],
   "source": [
    "# Write code here\n",
    "save_countries_dimension_table(df_countries)\n",
    "save_entry_ports_dimension_table(df_entry_ports_tf)\n",
    "save_travel_modes_dimension_table(df_travel_modes)\n",
    "save_us_states_dimension_table(df_us_states)\n",
    "save_visa_modes_dimension_table(df_visa_modes)\n",
    "save_airports_dimension_table(df_airport_tf)\n",
    "save_immigration_fact_table(spark,df_immigrations_tf,df_countries_tf,df_us_states,df_entry_ports_tf,df_travel_modes,df_visa_modes)\n",
    "save_us_cities_demographics_dimension_table(df_us_dems_tf)"
   ]
  },
  {
   "cell_type": "markdown",
   "metadata": {
    "editable": true
   },
   "source": [
    "#### 4.2 Data Quality Checks\n",
    "Explain the data quality checks you'll perform to ensure the pipeline ran as expected. \n",
    "- Data are validated to make sure they are not empty\n",
    "- Fact table has valid data that are backed by dimension tables' ones.\n",
    " \n",
    "Run Quality Checks"
   ]
  },
  {
   "cell_type": "code",
   "execution_count": 20,
   "metadata": {
    "editable": true
   },
   "outputs": [],
   "source": [
    "# Perform quality checks here\n",
    "validate_data_integrity(spark)"
   ]
  },
  {
   "cell_type": "markdown",
   "metadata": {
    "editable": true
   },
   "source": [
    "#### 4.3 Data dictionary \n",
    "Create a data dictionary for your data model. For each field, provide a brief description of what the data is and where it came from. You can include the data dictionary in the notebook or in a separate file."
   ]
  },
  {
   "cell_type": "markdown",
   "metadata": {},
   "source": [
    "`fact_immigrations`: data come from I94 immigration dataset\n",
    "```\n",
    "- year_of_entry: the year of the arrival\n",
    "- month_of_entry: the month of the arrival\n",
    "- country_of_origin_code: the code of the visitor's country of origin\n",
    "- country_of_residence_code: the code of the visitor's country of residence\n",
    "- us_address_state_code: the code for the US state where the port of entry is located\n",
    "- port_of_entry_code; the code for the port of entry\n",
    "- travel_mode_code: specifies which means of transportaion the visitor uses to travel to the US, e.g. air,sea\n",
    "- visa_mode_code: type of visa category, e.g. student or tourist\n",
    "- airline: if the visitor travels by air, which airline they use\n",
    "- visa_type: type of the visa, e.g B1/B2 for tourist, F1 for student\n",
    "```\n",
    "\n",
    "`dim_us_dems`: the demographics for US cities. These data come from the US demographics dataset mentioned above\n",
    "```\n",
    " - state_code: the state where the city is located\n",
    " - city: the city's name\n",
    " - total_population: the population for the city\n",
    " - foreign_born: the population of the foregin born people\n",
    "```\n",
    " \n",
    "`dim_airports`: the US' airport data. These data come from the Airport dataset mentioned above\n",
    "```\n",
    " - id: the id that distinguish the airport\n",
    " - aiport_name: the name of the airport\n",
    " - state_code: the state where the airport is located\n",
    " - airport_code; this is either IATA code or the local code\n",
    "```\n",
    " \n",
    " \n",
    "`dim_countries, dim_entry_ports,dim_us_states,dim_travel_modes,dim_visa_modes`: the data are parsed from I94 label metadata file and provide the mapping for the codes from the fact_immigrations into their meaningful name. "
   ]
  },
  {
   "cell_type": "markdown",
   "metadata": {
    "editable": true
   },
   "source": [
    "#### Step 5: Complete Project Write Up\n",
    "* Clearly state the rationale for the choice of tools and technologies for the project.\n",
    "* Propose how often the data should be updated and why.\n",
    "* Write a description of how you would approach the problem differently under the following scenarios:\n",
    " * The data was increased by 100x.\n",
    " * The data populates a dashboard that must be updated on a daily basis by 7am every day.\n",
    " * The database needed to be accessed by 100+ people."
   ]
  },
  {
   "cell_type": "markdown",
   "metadata": {
    "editable": true
   },
   "source": [
    "### Tools and technologies\n",
    "- Docker and docker-compose are used to provide immutable deployment of development environment at my local workspace. The image `jupyter/all-spark-notebook:spark-2` is used to provide spark 2 support.\n",
    "- To read in SAS files using spark, `spark-sas7bdat` jar is used alongside with its dependency: `parso`\n",
    "- `pyspark` is used for the whole ETL process as it provides paralled and high througput processing. \n",
    "- `parquet` is used as data model storage format for its small storage size and high loading/saving performance"
   ]
  },
  {
   "cell_type": "markdown",
   "metadata": {},
   "source": [
    "### Approaches for other scenarios not included in the project \n",
    "- The data was increased by 100x: Spark is good for data processing: Highly available and scalable Spark cluster can be used to support increase in data processing\n",
    "- The data populates a dashboard that must be updated on a daily basis by 7am every day: Data pipeline using orchestration tools like Airflow or Jenkins can provide scheduling\n",
    "- The database needed to be accessed by 100+ people: Datawarehousing tools like AWS Redshift which supports cluster and partitioning/sharding can be used to provide parrallel processing.Read replicas can be added for faster retrieval."
   ]
  },
  {
   "cell_type": "markdown",
   "metadata": {},
   "source": [
    "### Sample data analysis\n",
    "- Find the top countries of residence of the visitors\n",
    "- Find the top states that received the most visitors\n",
    "- Find top states for international students and its foreign-born population to find if there are any correlations\n",
    "     * We can see that states that have high foreign-born population will also have high international students. Exception some states with low population like MA but has many academic institutions\n",
    "- Find the busiest airports in the US as international destinations"
   ]
  },
  {
   "cell_type": "code",
   "execution_count": 21,
   "metadata": {
    "editable": true
   },
   "outputs": [],
   "source": [
    "#top 10 ports that receive the most visistors\n",
    "# load data from parquet files\n",
    "df_airports_load, df_countries_load, df_entry_ports_load, \\\n",
    "    df_immigrations_load, df_travel_modes_load, df_us_dems_load, \\\n",
    "    df_us_states_load, df_visa_modes_load \\\n",
    "        = get_data_from_parquet_files(spark)\n"
   ]
  },
  {
   "cell_type": "code",
   "execution_count": 22,
   "metadata": {
    "editable": true
   },
   "outputs": [],
   "source": [
    "# create temp views\n",
    "df_immigrations_load.createOrReplaceTempView('immigration_temp_view')\n",
    "df_countries_load.createOrReplaceTempView('countries_temp_view')\n",
    "df_us_states_load.createOrReplaceTempView('us_state_temp_view')\n",
    "df_entry_ports_load.createOrReplaceTempView('ports_temp_view')\n",
    "df_travel_modes_load.createOrReplaceTempView('travel_modes_temp_view')\n",
    "df_visa_modes_load.createOrReplaceTempView('visa_modes_temp_view')\n",
    "df_airports_load.createOrReplaceTempView('airports_temp_view')\n",
    "df_us_dems_load.createOrReplaceTempView('us_dems_temp_view')"
   ]
  },
  {
   "cell_type": "code",
   "execution_count": 23,
   "metadata": {
    "editable": true
   },
   "outputs": [
    {
     "name": "stdout",
     "output_type": "stream",
     "text": [
      "+--------------------+------------------+\n",
      "|        country_name|number_of_visitors|\n",
      "+--------------------+------------------+\n",
      "|      UNITED KINGDOM|             21999|\n",
      "|          CHINA, PRC|             14279|\n",
      "|              FRANCE|             12365|\n",
      "|               INDIA|             12210|\n",
      "|MEXICO Air Sea, a...|             11335|\n",
      "|               JAPAN|             11177|\n",
      "|           AUSTRALIA|              9405|\n",
      "|              BRAZIL|              8673|\n",
      "|               ITALY|              7253|\n",
      "|               SPAIN|              7095|\n",
      "|         SWITZERLAND|              7082|\n",
      "|         NETHERLANDS|              7002|\n",
      "|              ISRAEL|              5014|\n",
      "|            COLOMBIA|              4768|\n",
      "|              TAIWAN|              4680|\n",
      "|           ARGENTINA|              4552|\n",
      "|              SWEDEN|              4393|\n",
      "|             BELGIUM|              4331|\n",
      "|             IRELAND|              4150|\n",
      "|             GERMANY|              3892|\n",
      "+--------------------+------------------+\n",
      "only showing top 20 rows\n",
      "\n"
     ]
    }
   ],
   "source": [
    "# Find the top countries of residence of the visitors\n",
    "spark.sql(\"\"\"\n",
    "    SELECT country_name,count(*) as number_of_visitors\n",
    "    FROM immigration_temp_view itv,countries_temp_view ctv\n",
    "    WHERE itv.country_of_residence_code = ctv.country_code\n",
    "    GROUP BY country_name\n",
    "    ORDER BY number_of_visitors DESC\n",
    "    \n",
    "\"\"\").show()"
   ]
  },
  {
   "cell_type": "code",
   "execution_count": 24,
   "metadata": {},
   "outputs": [
    {
     "name": "stdout",
     "output_type": "stream",
     "text": [
      "+---------------------+--------------------------------+\n",
      "|us_address_state_code|number_of_international_students|\n",
      "+---------------------+--------------------------------+\n",
      "|                   CA|                            2706|\n",
      "|                   NY|                            2116|\n",
      "|                   FL|                            1663|\n",
      "|                   MA|                            1208|\n",
      "|                   TX|                             781|\n",
      "|                   IL|                             675|\n",
      "|                   PA|                             496|\n",
      "|                   WA|                             435|\n",
      "|                   MI|                             393|\n",
      "|                   NJ|                             358|\n",
      "|                   VA|                             336|\n",
      "|                   GA|                             271|\n",
      "|                   OH|                             268|\n",
      "|                   UT|                             259|\n",
      "|                   RI|                             246|\n",
      "|                   DC|                             225|\n",
      "|                   MD|                             224|\n",
      "|                   AZ|                             218|\n",
      "|                   NC|                             213|\n",
      "|                   IN|                             212|\n",
      "+---------------------+--------------------------------+\n",
      "only showing top 20 rows\n",
      "\n"
     ]
    }
   ],
   "source": [
    "# find the top states that received the most visitors\n",
    "spark.sql(\"\"\"\n",
    "    SELECT  us_address_state_code, count(*) AS number_of_international_students\n",
    "        FROM immigration_temp_view itv,visa_modes_temp_view vmtv\n",
    "        WHERE itv.visa_mode_code=vmtv.visa_mode_code AND\n",
    "              vmtv.visa_mode_name='Student'\n",
    "        GROUP BY us_address_state_code\n",
    "        ORDER BY number_of_international_students DESC\n",
    "        \n",
    "\"\"\").show()"
   ]
  },
  {
   "cell_type": "code",
   "execution_count": 25,
   "metadata": {
    "editable": true
   },
   "outputs": [
    {
     "name": "stdout",
     "output_type": "stream",
     "text": [
      "+---------------------+------------------+----------+----------------------+\n",
      "|us_address_state_code|number_of_visitors|state_code|number_of_foreign_born|\n",
      "+---------------------+------------------+----------+----------------------+\n",
      "|                   CA|              2706|        CA|               7448257|\n",
      "|                   NY|              2116|        NY|               3438081|\n",
      "|                   FL|              1663|        FL|               1688931|\n",
      "|                   MA|              1208|        MA|                520597|\n",
      "|                   TX|               781|        TX|               2942164|\n",
      "|                   IL|               675|        IL|                941735|\n",
      "|                   PA|               496|        PA|                290860|\n",
      "|                   WA|               435|        WA|                440962|\n",
      "|                   MI|               393|        MI|                249772|\n",
      "|                   NJ|               358|        NJ|                477028|\n",
      "|                   VA|               336|        VA|                269254|\n",
      "|                   GA|               271|        GA|                147785|\n",
      "|                   OH|               268|        OH|                175219|\n",
      "|                   UT|               259|        UT|                132819|\n",
      "|                   RI|               246|        RI|                 87365|\n",
      "|                   DC|               225|        DC|                 95117|\n",
      "|                   MD|               224|        MD|                229794|\n",
      "|                   AZ|               218|        AZ|                682313|\n",
      "|                   NC|               213|        NC|                379327|\n",
      "|                   IN|               212|        IN|                147233|\n",
      "+---------------------+------------------+----------+----------------------+\n",
      "only showing top 20 rows\n",
      "\n"
     ]
    }
   ],
   "source": [
    "# Find top states for international students and its foreign-born population\n",
    "# We can see that states that have high foreign-born population will also have high international students\n",
    "# Exception some states with low population like MA but has many academic institutions\n",
    "spark.sql(\"\"\"\n",
    "    SELECT * FROM \n",
    "    (\n",
    "        SELECT  us_address_state_code, count(*) AS number_of_visitors\n",
    "        FROM immigration_temp_view itv,visa_modes_temp_view vmtv\n",
    "        WHERE itv.visa_mode_code=vmtv.visa_mode_code AND\n",
    "              vmtv.visa_mode_name='Student'\n",
    "        GROUP BY us_address_state_code\n",
    "        ORDER BY number_of_visitors DESC\n",
    "    ) itvs\n",
    "    LEFT JOIN \n",
    "    (\n",
    "        SELECT state_code, sum(foreign_born) AS number_of_foreign_born\n",
    "        FROM us_dems_temp_view udtv\n",
    "        GROUP BY state_code\n",
    "        ORDER BY number_of_foreign_born DESC\n",
    "    ) udtvs\n",
    "    ON itvs.us_address_state_code=udtvs.state_code\n",
    "\"\"\").show()"
   ]
  },
  {
   "cell_type": "code",
   "execution_count": 26,
   "metadata": {
    "editable": true
   },
   "outputs": [
    {
     "name": "stdout",
     "output_type": "stream",
     "text": [
      "+--------------------+------------------+\n",
      "|        airport_name|number_of_visitors|\n",
      "+--------------------+------------------+\n",
      "|Miami Internation...|             19223|\n",
      "|San Fernando Airport|             12199|\n",
      "|   Lakefront Airport|             11998|\n",
      "|William P Hobby A...|             11034|\n",
      "|Hartsfield Jackso...|             10977|\n",
      "|Orlando Executive...|              9861|\n",
      "|   Dallas Love Field|              8417|\n",
      "|General Edward La...|              8343|\n",
      "|Seattle Tacoma In...|              6930|\n",
      "|  Point Hope Airport|              6514|\n",
      "|Torrington Munici...|              5742|\n",
      "|Coleman A. Young ...|              5011|\n",
      "|Denver Internatio...|              3952|\n",
      "|Palm Springs Inte...|              3751|\n",
      "|          Page Field|              3744|\n",
      "|Charlotte Douglas...|              3095|\n",
      "|     Kahului Airport|              2831|\n",
      "|Southern Californ...|              2459|\n",
      "|Dubois Municipal ...|              2079|\n",
      "|  Sand Point Airport|              1539|\n",
      "+--------------------+------------------+\n",
      "only showing top 20 rows\n",
      "\n"
     ]
    }
   ],
   "source": [
    "# Find the busiest airports\n",
    "spark.sql(\"\"\"\n",
    "    SELECT airport_name, count(*) AS number_of_visitors\n",
    "    FROM immigration_temp_view itv\n",
    "    JOIN travel_modes_temp_view tmtv\n",
    "    ON itv.travel_mode_code = tmtv.travel_mode_code\n",
    "    JOIN airports_temp_view atv\n",
    "    ON itv.port_of_entry_code=atv.airport_code\n",
    "    WHERE tmtv.travel_mode_name='Air'\n",
    "    GROUP BY airport_name\n",
    "    ORDER BY number_of_visitors DESC\n",
    "\"\"\").show()"
   ]
  },
  {
   "cell_type": "code",
   "execution_count": null,
   "metadata": {},
   "outputs": [],
   "source": []
  }
 ],
 "metadata": {
  "kernelspec": {
   "display_name": "Python 3",
   "language": "python",
   "name": "python3"
  },
  "language_info": {
   "codemirror_mode": {
    "name": "ipython",
    "version": 3
   },
   "file_extension": ".py",
   "mimetype": "text/x-python",
   "name": "python",
   "nbconvert_exporter": "python",
   "pygments_lexer": "ipython3",
   "version": "3.7.6"
  }
 },
 "nbformat": 4,
 "nbformat_minor": 4
}
