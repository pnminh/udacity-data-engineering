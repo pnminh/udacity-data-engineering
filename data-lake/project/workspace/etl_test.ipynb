{
 "cells": [
  {
   "cell_type": "markdown",
   "id": "compatible-calendar",
   "metadata": {},
   "source": [
    "#test etl\n",
    "# import libraries"
   ]
  },
  {
   "cell_type": "code",
   "execution_count": 1,
   "id": "architectural-intelligence",
   "metadata": {},
   "outputs": [],
   "source": [
    "import configparser\n",
    "from datetime import datetime\n",
    "import os\n",
    "from pyspark.sql import SparkSession\n",
    "from pyspark.sql.functions import udf, col, to_timestamp, to_date, expr\n",
    "from pyspark.sql.functions import year, month, dayofmonth, hour, weekofyear, date_format, dayofweek\n",
    "from pyspark.sql.types import TimestampType,IntegerType"
   ]
  },
  {
   "cell_type": "code",
   "execution_count": 2,
   "id": "miniature-appearance",
   "metadata": {},
   "outputs": [],
   "source": [
    "#set configs from aws keypair\n",
    "config = configparser.ConfigParser()\n",
    "config.read('dl.cfg')\n",
    "\n",
    "os.environ['AWS_ACCESS_KEY_ID']=config['AWS']['AWS_ACCESS_KEY_ID']\n",
    "os.environ['AWS_SECRET_ACCESS_KEY']=config['AWS']['AWS_SECRET_ACCESS_KEY']"
   ]
  },
  {
   "cell_type": "code",
   "execution_count": 3,
   "id": "mediterranean-drinking",
   "metadata": {},
   "outputs": [],
   "source": [
    "spark = SparkSession \\\n",
    "        .builder \\\n",
    "        .config(\"spark.jars.packages\", \"org.apache.hadoop:hadoop-aws:2.7.3\") \\\n",
    "        .getOrCreate()"
   ]
  },
  {
   "cell_type": "code",
   "execution_count": 4,
   "id": "897fffa0-0c7d-4f7e-a7a1-3731c8a95e17",
   "metadata": {},
   "outputs": [],
   "source": [
    "#add song data\n",
    "song_data = os.path.join('data', 'song_data/*/*/*/*.json')"
   ]
  },
  {
   "cell_type": "code",
   "execution_count": 5,
   "id": "c7e15318-fa5e-4e70-afba-c2d403fdf839",
   "metadata": {},
   "outputs": [
    {
     "name": "stdout",
     "output_type": "stream",
     "text": [
      "+------------------+---------------+--------------------+----------------+--------------------+---------+---------+------------------+--------------------+----+\n",
      "|         artist_id|artist_latitude|     artist_location|artist_longitude|         artist_name| duration|num_songs|           song_id|               title|year|\n",
      "+------------------+---------------+--------------------+----------------+--------------------+---------+---------+------------------+--------------------+----+\n",
      "|ARDR4AC1187FB371A1|           null|                    |            null|Montserrat Caball...|511.16363|        1|SOBAYLL12A8C138AF9|Sono andati? Fing...|   0|\n",
      "|AREBBGV1187FB523D2|           null|         Houston, TX|            null|Mike Jones (Featu...|173.66159|        1|SOOLYAZ12A6701F4A6|Laws Patrolling (...|   0|\n",
      "|ARMAC4T1187FB3FA4C|       40.82624|   Morris Plains, NJ|       -74.47995|The Dillinger Esc...|207.77751|        1|SOBBUGU12A8C13E95D|Setting Fire to S...|2004|\n",
      "|ARPBNLO1187FB3D52F|       40.71455|        New York, NY|       -74.00712|            Tiny Tim| 43.36281|        1|SOAOIBZ12AB01815BE|I Hold Your Hand ...|2000|\n",
      "|ARDNS031187B9924F0|       32.67828|             Georgia|       -83.22295|          Tim Wilson|186.48771|        1|SONYPOM12A8C13B2D7|I Think My Wife I...|2005|\n",
      "|ARNF6401187FB57032|       40.79086|New York, NY [Man...|       -73.96644|   Sophie B. Hawkins|  305.162|        1|SONWXQJ12A8C134D94|The Ballad Of Sle...|1994|\n",
      "|ARLTWXK1187FB5A3F8|       32.74863|      Fort Worth, TX|       -97.32925|         King Curtis|326.00771|        1|SODREIN12A58A7F2E5|A Whiter Shade Of...|   0|\n",
      "|ARPFHN61187FB575F6|       41.88415|         Chicago, IL|       -87.63241|         Lupe Fiasco|279.97995|        1|SOWQTQZ12A58A7B63E|Streets On Fire (...|   0|\n",
      "|ARI2JSK1187FB496EF|       51.50632|     London, England|        -0.12714|Nick Ingman;Gavyn...|111.62077|        1|SODUJBS12A8C132150|Wessex Loses a Bride|   0|\n",
      "|AROUOZZ1187B9ABE51|       40.79195|New York, NY [Spa...|       -73.94512|         Willie Bobo|168.25424|        1|SOBZBAZ12A6D4F8742|      Spanish Grease|1997|\n",
      "|AR0RCMP1187FB3F427|       30.08615|        Beaumont, TX|       -94.10158|    Billie Jo Spears|133.32853|        1|SOGXHEG12AB018653E|It Makes No Diffe...|1992|\n",
      "|AR9AWNF1187B9AB0B4|           null|Seattle, Washingt...|            null|Kenny G featuring...|236.93016|        1|SOZHPGD12A8C1394FE|     Baby Come To Me|   0|\n",
      "|AR47JEX1187B995D81|       37.83721|          Nevada, MO|       -94.35868|        SUE THOMPSON|124.86485|        1|SOBLGCN12AB0183212|James (Hold The L...|1985|\n",
      "|ARKFYS91187B98E58F|           null|                    |            null|Jeff And Sheri Ea...| 267.7024|        1|SOYMRWW12A6D4FAB14|The Moon And I (O...|   0|\n",
      "|AR10USD1187B99F3F1|           null|Burlington, Ontar...|            null|Tweeterfriendly M...|189.57016|        1|SOHKNRJ12A6701D1F8|        Drop of Rain|   0|\n",
      "|ARB29H41187B98F0EF|       41.88415|             Chicago|       -87.63241|       Terry Callier|342.56934|        1|SOGNCJP12A58A80271|Do You Finally Ne...|1972|\n",
      "|ARQGYP71187FB44566|       34.31109|         Mineola, AR|       -94.02978|        Jimmy Wakely|151.84934|        1|SOWTBJW12AC468AC6E|Broken-Down Merry...|   0|\n",
      "|ARMBR4Y1187B9990EB|       37.77916|     California - SF|      -122.42005|        David Martin|241.47546|        1|SOTTDKS12AB018D69B|It Wont Be Christmas|   0|\n",
      "|AR36F9J1187FB406F1|       56.27609|             Denmark|         9.51695|      Bombay Rockers|230.71302|        1|SOBKWDJ12A8C13B2F3|Wild Rose (Back 2...|   0|\n",
      "|ARBEBBY1187B9B43DB|           null|     Gainesville, FL|            null|           Tom Petty|236.17261|        1|SOFFKZS12AB017F194|A Higher Place (A...|1994|\n",
      "+------------------+---------------+--------------------+----------------+--------------------+---------+---------+------------------+--------------------+----+\n",
      "only showing top 20 rows\n",
      "\n"
     ]
    }
   ],
   "source": [
    "#spark dataframe\n",
    "df = spark.read.json(song_data)\n",
    "df.show()"
   ]
  },
  {
   "cell_type": "code",
   "execution_count": 6,
   "id": "33434e48-b889-4c5a-892d-0b03ddf80d65",
   "metadata": {},
   "outputs": [],
   "source": [
    "## extract columns to create songs table\n",
    "#df.createOrReplaceTempView(\"payment\")\n",
    "songs_table = df.select(\"song_id\",\"title\",\"artist_id\",\"year\",\"duration\").distinct()"
   ]
  },
  {
   "cell_type": "code",
   "execution_count": 7,
   "id": "2425134c-75bd-4f30-aa2a-dd17ca0df49e",
   "metadata": {},
   "outputs": [],
   "source": [
    "## write songs table to parquet files partitioned by year and artist\n",
    "songs_table.write.partitionBy(\"year\",\"artist_id\").parquet('output/songs',mode='overwrite')"
   ]
  },
  {
   "cell_type": "code",
   "execution_count": 8,
   "id": "e40fc0d9-7421-4204-b93b-06eae9126c82",
   "metadata": {},
   "outputs": [],
   "source": [
    "# extract columns to create artists table\n",
    "artists_table = df.select(\"artist_id\", col(\"artist_name\").alias(\"name\"), col(\"artist_location\").alias(\"location\"), col(\"artist_latitude\").alias(\"latitude\"), col(\"artist_longitude\").alias(\"longitude\")).distinct()"
   ]
  },
  {
   "cell_type": "code",
   "execution_count": 9,
   "id": "2f4e19df-7c84-47ed-90df-d1f021bac144",
   "metadata": {},
   "outputs": [],
   "source": [
    "# write artists table to parquet files\n",
    "artists_table.write.parquet('output/artists',mode='overwrite')"
   ]
  },
  {
   "cell_type": "code",
   "execution_count": 10,
   "id": "b6d930ab-d4cf-4d2c-8b93-afcc71c3a96a",
   "metadata": {},
   "outputs": [],
   "source": [
    "# get filepath to log data file\n",
    "log_data =os.path.join('data', 'log_data')"
   ]
  },
  {
   "cell_type": "code",
   "execution_count": 11,
   "id": "10a1b71b-69a6-49cb-b112-ea7efd3c5dfa",
   "metadata": {},
   "outputs": [
    {
     "name": "stdout",
     "output_type": "stream",
     "text": [
      "+--------------------+----------+---------+------+-------------+--------+---------+-----+--------------------+------+--------+-----------------+---------+--------------------+------+-------------+--------------------+------+\n",
      "|              artist|      auth|firstName|gender|itemInSession|lastName|   length|level|            location|method|    page|     registration|sessionId|                song|status|           ts|           userAgent|userId|\n",
      "+--------------------+----------+---------+------+-------------+--------+---------+-----+--------------------+------+--------+-----------------+---------+--------------------+------+-------------+--------------------+------+\n",
      "|            Harmonia| Logged In|     Ryan|     M|            0|   Smith|655.77751| free|San Jose-Sunnyval...|   PUT|NextSong|1.541016707796E12|      583|       Sehr kosmisch|   200|1542241826796|\"Mozilla/5.0 (X11...|    26|\n",
      "|         The Prodigy| Logged In|     Ryan|     M|            1|   Smith|260.07465| free|San Jose-Sunnyval...|   PUT|NextSong|1.541016707796E12|      583|     The Big Gundown|   200|1542242481796|\"Mozilla/5.0 (X11...|    26|\n",
      "|               Train| Logged In|     Ryan|     M|            2|   Smith|205.45261| free|San Jose-Sunnyval...|   PUT|NextSong|1.541016707796E12|      583|            Marry Me|   200|1542242741796|\"Mozilla/5.0 (X11...|    26|\n",
      "|                null| Logged In|    Wyatt|     M|            0|   Scott|     null| free|Eureka-Arcata-For...|   GET|    Home|1.540872073796E12|      563|                null|   200|1542247071796|Mozilla/5.0 (Wind...|     9|\n",
      "|                null| Logged In|   Austin|     M|            0| Rosales|     null| free|New York-Newark-J...|   GET|    Home|1.541059521796E12|      521|                null|   200|1542252577796|Mozilla/5.0 (Wind...|    12|\n",
      "|         Sony Wonder| Logged In|   Samuel|     M|            0|Gonzalez|218.06975| free|Houston-The Woodl...|   PUT|NextSong|1.540492941796E12|      597|           Blackbird|   200|1542253449796|\"Mozilla/5.0 (Mac...|    61|\n",
      "|                null| Logged In|   Samuel|     M|            1|Gonzalez|     null| free|Houston-The Woodl...|   GET|   About|1.540492941796E12|      597|                null|   200|1542253460796|\"Mozilla/5.0 (Mac...|    61|\n",
      "|                null|Logged Out|     null|  null|            0|    null|     null| paid|                null|   PUT|   Login|             null|      602|                null|   307|1542260074796|                null|      |\n",
      "|                null| Logged In|    Tegan|     F|            1|  Levine|     null| paid|Portland-South Po...|   GET|    Home|1.540794356796E12|      602|                null|   200|1542260277796|\"Mozilla/5.0 (Mac...|    80|\n",
      "|           Van Halen| Logged In|    Tegan|     F|            2|  Levine|289.38404| paid|Portland-South Po...|   PUT|NextSong|1.540794356796E12|      602|Best Of Both Worl...|   200|1542260935796|\"Mozilla/5.0 (Mac...|    80|\n",
      "|           Magic Sam| Logged In|    Tegan|     F|            3|  Levine|132.04853| paid|Portland-South Po...|   PUT|NextSong|1.540794356796E12|      602|Call Me If You Ne...|   200|1542261224796|\"Mozilla/5.0 (Mac...|    80|\n",
      "|Edward Sharpe & T...| Logged In|    Tegan|     F|            4|  Levine|306.31138| paid|Portland-South Po...|   PUT|NextSong|1.540794356796E12|      602|                Home|   200|1542261356796|\"Mozilla/5.0 (Mac...|    80|\n",
      "|Usher featuring w...| Logged In|    Tegan|     F|            5|  Levine|395.72853| paid|Portland-South Po...|   PUT|NextSong|1.540794356796E12|      602|                 OMG|   200|1542261662796|\"Mozilla/5.0 (Mac...|    80|\n",
      "|                null| Logged In|    Tegan|     F|            6|  Levine|     null| paid|Portland-South Po...|   GET|    Home|1.540794356796E12|      602|                null|   200|1542261713796|\"Mozilla/5.0 (Mac...|    80|\n",
      "|         Helen Reddy| Logged In|    Tegan|     F|            7|  Levine|176.50893| paid|Portland-South Po...|   PUT|NextSong|1.540794356796E12|      602| Candle On The Water|   200|1542262057796|\"Mozilla/5.0 (Mac...|    80|\n",
      "|        Taylor Swift| Logged In|    Tegan|     F|            8|  Levine|201.06404| paid|Portland-South Po...|   PUT|NextSong|1.540794356796E12|      602|            Our Song|   200|1542262233796|\"Mozilla/5.0 (Mac...|    80|\n",
      "|           Sean Paul| Logged In|    Tegan|     F|            9|  Levine|245.34159| paid|Portland-South Po...|   PUT|NextSong|1.540794356796E12|      602|Baby Boy [feat. B...|   200|1542262434796|\"Mozilla/5.0 (Mac...|    80|\n",
      "|         Soundgarden| Logged In|     Lily|     F|            0|    Koch|272.19546| paid|Chicago-Napervill...|   PUT|NextSong|1.541048010796E12|      582|      Black Hole Sun|   200|1542262456796|\"Mozilla/5.0 (X11...|    15|\n",
      "|         The Killers| Logged In|    Tegan|     F|           10|  Levine|360.75057| paid|Portland-South Po...|   PUT|NextSong|1.540794356796E12|      602|               Human|   200|1542262679796|\"Mozilla/5.0 (Mac...|    80|\n",
      "|       Amy Winehouse| Logged In|     Lily|     F|            1|    Koch|165.11955| paid|Chicago-Napervill...|   PUT|NextSong|1.541048010796E12|      582|            Addicted|   200|1542262728796|\"Mozilla/5.0 (X11...|    15|\n",
      "+--------------------+----------+---------+------+-------------+--------+---------+-----+--------------------+------+--------+-----------------+---------+--------------------+------+-------------+--------------------+------+\n",
      "only showing top 20 rows\n",
      "\n"
     ]
    }
   ],
   "source": [
    "# read log data file\n",
    "df = spark.read.json(log_data)\n",
    "df.show()"
   ]
  },
  {
   "cell_type": "code",
   "execution_count": 12,
   "id": "f394281c-3671-4568-a437-1733de1b6f06",
   "metadata": {},
   "outputs": [],
   "source": [
    "# filter by actions for song plays\n",
    "#df ="
   ]
  },
  {
   "cell_type": "code",
   "execution_count": 13,
   "id": "70b79940-981f-4ef5-b41f-2bbb22c840c8",
   "metadata": {},
   "outputs": [],
   "source": [
    "# extract columns for users table    \n",
    "users_table = df.select(col(\"userId\").alias(\"user_id\"), col(\"firstName\").alias(\"first_name\"), col(\"lastName\").alias(\"last_name\"), \"gender\", \"level\").distinct()"
   ]
  },
  {
   "cell_type": "code",
   "execution_count": 14,
   "id": "5ad74a40-1179-4c9f-b50b-bbeb13593ff3",
   "metadata": {},
   "outputs": [],
   "source": [
    "# write users table to parquet files\n",
    "users_table.write.parquet('output/users',mode='overwrite')"
   ]
  },
  {
   "cell_type": "code",
   "execution_count": 15,
   "id": "c6042967-2a6f-4a55-adf1-a14b17781de6",
   "metadata": {},
   "outputs": [],
   "source": [
    "# create timestamp column from original timestamp column\n",
    "#get_timestamp = udf(lambda ts: ts, IntegerType())\n",
    "#df = df.withColumn(\"timestamp\", get_timestamp(\"ts\"))\n",
    "df = df.withColumn(\"timestamp\", to_timestamp(col(\"ts\")/1000))"
   ]
  },
  {
   "cell_type": "code",
   "execution_count": 16,
   "id": "f4ed0e6e-6df1-4285-8e84-6f5c15631e6e",
   "metadata": {},
   "outputs": [],
   "source": [
    "# create datetime column from original timestamp column\n",
    "#get_datetime = udf()\n",
    "df = df.withColumn(\"datetime\", to_date(col('timestamp')))"
   ]
  },
  {
   "cell_type": "code",
   "execution_count": 17,
   "id": "011c9734-09a3-4216-a26b-a7522e026ea5",
   "metadata": {},
   "outputs": [],
   "source": [
    "# extract columns to create time table\n",
    "#start_time, hour, day, week, month, year, weekday\n",
    "time_table = df.select(col('timestamp').alias('start_time'),hour(col('timestamp')).alias('hour'),dayofmonth(col('timestamp')).alias('day'),weekofyear(col('timestamp')).alias('week'),month(col('timestamp')).alias('month'),year(col('timestamp')).alias('year'),dayofweek(col('timestamp')).alias('weekday')).distinct()"
   ]
  },
  {
   "cell_type": "code",
   "execution_count": 18,
   "id": "d02a65f1-982e-4a1a-bfd5-a0e1428acbb4",
   "metadata": {},
   "outputs": [],
   "source": [
    "# write time table to parquet files partitioned by year and month\n",
    "time_table.write.partitionBy(\"year\",\"month\").parquet('output/time',mode='overwrite')"
   ]
  },
  {
   "cell_type": "code",
   "execution_count": 19,
   "id": "a6408747-aa50-446f-9fe4-96cef9f4e0d1",
   "metadata": {},
   "outputs": [],
   "source": [
    "# read in song data to use for songplays table\n",
    "song_df = spark.read.json(os.path.join('data', 'song_data/*/*/*/*.json'))"
   ]
  },
  {
   "cell_type": "code",
   "execution_count": 20,
   "id": "fbe1b331-eb2c-485c-ace6-3c6177d538f1",
   "metadata": {},
   "outputs": [],
   "source": [
    "# extract columns from joined song and log datasets to create songplays table \n",
    "#*songplay_id, start_time, user_id, level, song_id, artist_id, session_id, location, user_agent*\n",
    "songplays_table = df.join(song_df, [song_df.title == df.song,song_df.duration == df.length], 'left').select(df.timestamp.alias('start_time'),year(df.timestamp).alias('year'),month(df.timestamp).alias('month'),df.userId.alias('user_id'),df.level,song_df.song_id,song_df.artist_id,df.sessionId.alias('session_id'),df.location,df.userAgent.alias('user_agent')).withColumn('songplays_id', expr(\"uuid()\")).distinct()"
   ]
  },
  {
   "cell_type": "code",
   "execution_count": 21,
   "id": "69697cf8-a0a7-4c8a-8555-c75edf1fb6a7",
   "metadata": {},
   "outputs": [],
   "source": [
    "# write songplays table to parquet files partitioned by year and month\n",
    "#songplays_table.filter(col(\"timestamp\").isNull()).count()\n",
    "songplays_table.write.parquet('output/songplays',mode='overwrite')"
   ]
  },
  {
   "cell_type": "code",
   "execution_count": null,
   "id": "7e09519f-fd6f-4fcd-9827-71031591a375",
   "metadata": {},
   "outputs": [],
   "source": []
  }
 ],
 "metadata": {
  "kernelspec": {
   "display_name": "Python 3",
   "language": "python",
   "name": "python3"
  },
  "language_info": {
   "codemirror_mode": {
    "name": "ipython",
    "version": 3
   },
   "file_extension": ".py",
   "mimetype": "text/x-python",
   "name": "python",
   "nbconvert_exporter": "python",
   "pygments_lexer": "ipython3",
   "version": "3.9.4"
  }
 },
 "nbformat": 4,
 "nbformat_minor": 5
}